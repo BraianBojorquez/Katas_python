{
 "cells": [
  {
   "cell_type": "markdown",
   "metadata": {},
   "source": [
    "## Ejercicio kata 5\n",
    "Exploremos cómo podemos crear un programa que pueda calcular la distancia entre dos planetas. Comenzaremos usando dos distancias de planetas: Tierra (149.597.870 km) y Júpiter (778.547.200 km)."
   ]
  },
  {
   "cell_type": "code",
   "execution_count": 4,
   "metadata": {},
   "outputs": [
    {
     "name": "stdout",
     "output_type": "stream",
     "text": [
      "628949330\n",
      "390577533.93\n"
     ]
    }
   ],
   "source": [
    "distancia_tierra = int(149597870)\n",
    "distancia_jupiter= int(778547200)\n",
    "distancia_entreplanetas = abs(distancia_tierra -distancia_jupiter) \n",
    "distancia_en_millas = float(distancia_entreplanetas * 0.621)\n",
    "print(distancia_entreplanetas)\n",
    "print(distancia_en_millas)"
   ]
  },
  {
   "cell_type": "markdown",
   "metadata": {},
   "source": [
    "## Ejercicio 2\n",
    "Crear una aplicación para trabajar con números y entrada de usuario\n",
    "Con frecuencia, deberás convertir los valores de cadena en números para realizar correctamente diferentes operaciones o determinar el valor absoluto de un número.\n",
    "Para crear nuestra aplicación, queremos leer la distancia del sol para dos planetas, y luego mostrar la distancia entre los planetas. Haremos esto usando input para leer los valores, int para convertir a entero y luego abs para convertir el resultado en su valor absoluto.\n",
    "\n",
    "#### Planeta\tDistancia al sol\n",
    "##### Mercurio\t57900000\n",
    "##### Venus\t    108200000\n",
    "##### Tierra   \t149600000\n",
    "##### Marte\t    227900000\n",
    "##### Júpiter\t778600000\n",
    "##### Saturno\t1433500000\n",
    "##### Urano\t    2872500000\n",
    "##### Neptuno \t4495100000"
   ]
  },
  {
   "cell_type": "code",
   "execution_count": 11,
   "metadata": {},
   "outputs": [
    {
     "name": "stdout",
     "output_type": "stream",
     "text": [
      "Calculo de distancias entre los planetas y el sol \n",
      " Ingrese las distancias entre el planeta y el sol\n",
      "Distancia entre el planeta 1 y 2: 4345500000 Km\n",
      "Distatancia en millas: 2698555500.0 mi\n"
     ]
    }
   ],
   "source": [
    "print(\"Calculo de distancias entre los planetas y el sol \\n Ingrese las distancias entre el planeta y el sol\")\n",
    "planeta1 = input(\"Ingrese la distancia del planeta 1\")\n",
    "planeta2 = input(\"Ingrese la distancia del planeta 2\")\n",
    "planeta1 = int(planeta1)\n",
    "planeta2 = int(planeta2)\n",
    "distancia = abs(planeta1 - planeta2)\n",
    "distancia_en_millas = distancia * 0.621\n",
    "print('Distancia entre el planeta 1 y 2:' ,str(distancia), 'Km')\n",
    "print(\"Distatancia en millas: \" + str(distancia_en_millas) + \" mi\")"
   ]
  }
 ],
 "metadata": {
  "interpreter": {
   "hash": "edb16a13d35740c94d3137380855f7b479e18de576bc29d93a289be7d81dcf8b"
  },
  "kernelspec": {
   "display_name": "Python 3.10.2 64-bit",
   "language": "python",
   "name": "python3"
  },
  "language_info": {
   "codemirror_mode": {
    "name": "ipython",
    "version": 3
   },
   "file_extension": ".py",
   "mimetype": "text/x-python",
   "name": "python",
   "nbconvert_exporter": "python",
   "pygments_lexer": "ipython3",
   "version": "3.10.2"
  },
  "orig_nbformat": 4
 },
 "nbformat": 4,
 "nbformat_minor": 2
}
